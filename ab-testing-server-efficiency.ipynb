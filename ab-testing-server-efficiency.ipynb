{
 "cells": [
  {
   "cell_type": "markdown",
   "metadata": {},
   "source": [
    "Sergi Busquets (https://github.com/seeergiii)"
   ]
  },
  {
   "cell_type": "markdown",
   "metadata": {},
   "source": [
    "# AB Testing: Server Efficiency Analysis\n",
    "\n",
    "In the bustling IT department of a corporate office, they faced the task of assessing the performance of their web servers efficiently. With a methodical approach, they decided to measure the wait times between client requests and server responses. In a routine task that mirrored their daily operations, they recorded the **wait times in milliseconds for two servers**, TA and TB, over a fixed number of requests. The data points collected were organized in a file named 'ActR08TATB.csv', ready for analysis.\n",
    "\n",
    "**Data Source:** Universitat Oberta de Catalunya (UOC)"
   ]
  },
  {
   "cell_type": "markdown",
   "metadata": {},
   "source": [
    "## 1️⃣ Test whether we can consider server A to be less efficient than server B, using a significance level at α = 0.01."
   ]
  },
  {
   "cell_type": "markdown",
   "metadata": {},
   "source": [
    "### 1.1. Data overview"
   ]
  },
  {
   "cell_type": "markdown",
   "metadata": {},
   "source": [
    "Let's first import the necessary libraries for data manipulation, statistics, and visualization. We wiil read the raw data from the CSV file named ActR08TATB.csv using Pandas."
   ]
  },
  {
   "cell_type": "code",
   "execution_count": 2,
   "metadata": {},
   "outputs": [],
   "source": [
    "# Import libraries\n",
    "import pandas as pd\n",
    "import numpy as np\n",
    "from math import sqrt\n",
    "import random\n",
    "\n",
    "from scipy.stats import norm\n",
    "\n",
    "\n",
    "import matplotlib.pyplot as plt\n",
    "import seaborn as sns"
   ]
  },
  {
   "cell_type": "code",
   "execution_count": 3,
   "metadata": {},
   "outputs": [
    {
     "data": {
      "text/html": [
       "<div>\n",
       "<style scoped>\n",
       "    .dataframe tbody tr th:only-of-type {\n",
       "        vertical-align: middle;\n",
       "    }\n",
       "\n",
       "    .dataframe tbody tr th {\n",
       "        vertical-align: top;\n",
       "    }\n",
       "\n",
       "    .dataframe thead th {\n",
       "        text-align: right;\n",
       "    }\n",
       "</style>\n",
       "<table border=\"1\" class=\"dataframe\">\n",
       "  <thead>\n",
       "    <tr style=\"text-align: right;\">\n",
       "      <th></th>\n",
       "      <th>TA</th>\n",
       "      <th>TB</th>\n",
       "    </tr>\n",
       "  </thead>\n",
       "  <tbody>\n",
       "    <tr>\n",
       "      <th>0</th>\n",
       "      <td>9.67</td>\n",
       "      <td>6.45</td>\n",
       "    </tr>\n",
       "    <tr>\n",
       "      <th>1</th>\n",
       "      <td>9.62</td>\n",
       "      <td>9.64</td>\n",
       "    </tr>\n",
       "    <tr>\n",
       "      <th>2</th>\n",
       "      <td>9.50</td>\n",
       "      <td>8.53</td>\n",
       "    </tr>\n",
       "    <tr>\n",
       "      <th>3</th>\n",
       "      <td>10.88</td>\n",
       "      <td>9.20</td>\n",
       "    </tr>\n",
       "    <tr>\n",
       "      <th>4</th>\n",
       "      <td>8.94</td>\n",
       "      <td>4.55</td>\n",
       "    </tr>\n",
       "  </tbody>\n",
       "</table>\n",
       "</div>"
      ],
      "text/plain": [
       "      TA    TB\n",
       "0   9.67  6.45\n",
       "1   9.62  9.64\n",
       "2   9.50  8.53\n",
       "3  10.88  9.20\n",
       "4   8.94  4.55"
      ]
     },
     "execution_count": 3,
     "metadata": {},
     "output_type": "execute_result"
    }
   ],
   "source": [
    "# Read .csv file\n",
    "data = pd.read_csv('raw_data/ActR08TATB.csv', delimiter=';')\n",
    "data.head(5)"
   ]
  },
  {
   "cell_type": "code",
   "execution_count": 4,
   "metadata": {},
   "outputs": [
    {
     "name": "stdout",
     "output_type": "stream",
     "text": [
      "<class 'pandas.core.frame.DataFrame'>\n",
      "RangeIndex: 50 entries, 0 to 49\n",
      "Data columns (total 2 columns):\n",
      " #   Column  Non-Null Count  Dtype  \n",
      "---  ------  --------------  -----  \n",
      " 0   TA      50 non-null     float64\n",
      " 1   TB      50 non-null     float64\n",
      "dtypes: float64(2)\n",
      "memory usage: 928.0 bytes\n"
     ]
    }
   ],
   "source": [
    "data.info()"
   ]
  },
  {
   "cell_type": "markdown",
   "metadata": {},
   "source": [
    "We create a boxplot to visually compare the response times of both servers. The boxplot shows the median, quartiles, and outliers for each server."
   ]
  },
  {
   "cell_type": "code",
   "execution_count": 5,
   "metadata": {},
   "outputs": [
    {
     "data": {
      "image/png": "[encoded data removed]",
      "text/plain": [
       "<Figure size 400x400 with 1 Axes>"
      ]
     },
     "metadata": {},
     "output_type": "display_data"
    }
   ],
   "source": [
    "# Boxplots for response times on each server\n",
    "plt.figure(figsize=(4, 4))\n",
    "ax = sns.boxplot(data=data,\n",
    "                 flierprops={\"marker\": \"x\"},\n",
    "                 medianprops={\"color\": \"black\", \"linewidth\": 2})\n",
    "plt.grid(lw=0.5)\n",
    "plt.title('Server response time')\n",
    "plt.ylabel('time (ms)')\n",
    "plt.show()"
   ]
  },
  {
   "cell_type": "markdown",
   "metadata": {},
   "source": [
    "We can see how the server response time is faster on requests made to server A compared to the ones made to server B. The median response time for server A is around 10 ms, while the median response time for server B is about 8.5 ms.\n",
    "\n",
    "The spread of the response times is larger for server B, as the whiskers extend from 6 ms to over 12 ms, while the whiskers for server A extend from 8 ms to just below 12 ms. This shows that there is a wider range of response times on server B than on server A.\n",
    "\n",
    "There are only two outliers detected for server A, and one outlier for server B."
   ]
  },
  {
   "cell_type": "markdown",
   "metadata": {},
   "source": [
    "### 1.2 Hypothesis statement"
   ]
  },
  {
   "cell_type": "markdown",
   "metadata": {},
   "source": [
    "We aim to **contrast the mean response time of the two servers**, under the assumption that greater response times indicate lesser efficiency. Therefore, we will examine whether the mean response time of server A surpasses that of server B (**one-sided test**)."
   ]
  },
  {
   "cell_type": "markdown",
   "metadata": {},
   "source": [
    "### 1.3 Test statistic:"
   ]
  },
  {
   "cell_type": "markdown",
   "metadata": {},
   "source": [
    "$$\n",
    "H_{0}: \\bar{x}_{A} - \\bar{x} _{B}= 0\n",
    "$$\n",
    "\n",
    "$$\n",
    "H_{a}: \\bar{x}_{A} - \\bar{x} _{B}>  0\n",
    "$$"
   ]
  },
  {
   "cell_type": "markdown",
   "metadata": {},
   "source": [
    "Although we cannot presume normal distribution within the populations, given the substantial sample sizes for both servers exceeding 30, and according to the Central Limit Theorem, we will be using a **Z-test**."
   ]
  },
  {
   "cell_type": "markdown",
   "metadata": {},
   "source": [
    "$$\n",
    "Z = \\frac{\\bar{x}_{A} - \\bar{x}_{B}}{\\sqrt{\\frac{\\bar{s}_{A}^2}{n_{A}} + \\frac{\\bar{s}_{B}^2}{n_{B}}}}\n",
    "$$"
   ]
  },
  {
   "cell_type": "code",
   "execution_count": 6,
   "metadata": {},
   "outputs": [
    {
     "data": {
      "text/plain": [
       "3.7134080154690747"
      ]
     },
     "execution_count": 6,
     "metadata": {},
     "output_type": "execute_result"
    }
   ],
   "source": [
    "# Compute the Z test statistic\n",
    "mean_ta = data.TA.mean()\n",
    "mean_tb = data.TB.mean()\n",
    "\n",
    "variance_ta = data.TA.var()\n",
    "variance_tb = data.TB.var()\n",
    "\n",
    "z = (mean_ta - mean_tb) / (sqrt((variance_ta/len(data.TA) + variance_tb/len(data.TB))))\n",
    "z"
   ]
  },
  {
   "cell_type": "markdown",
   "metadata": {},
   "source": [
    "### 1.4 P-value:"
   ]
  },
  {
   "cell_type": "markdown",
   "metadata": {},
   "source": [
    "With the test statistic computed, we proceed to obtain the p-value by evaluating the Cumulative Distribution Function of a standard normal distribution, denoted as N(0,1). Since we are conducting a right-tailed test, and the cumulative distribution function yields the area to the left of the test statistic on the distribution curve, we will subtract the computed value from 1."
   ]
  },
  {
   "cell_type": "code",
   "execution_count": 7,
   "metadata": {},
   "outputs": [
    {
     "data": {
      "text/plain": [
       "0.0001022434048687515"
      ]
     },
     "execution_count": 7,
     "metadata": {},
     "output_type": "execute_result"
    }
   ],
   "source": [
    "# Compute the p-value from the CDF of a normal distrbution N(0,1)\n",
    "1-norm.cdf(z)"
   ]
  },
  {
   "cell_type": "markdown",
   "metadata": {},
   "source": [
    "We observe a p-value close to 0, indicating that there is a very low frequency with which the chance model produces a result more extreme than the observed result. Since this value is smaller than our chosen significance level (representing our tolerance for committing a Type I error), we reject the Null Hypothesis that the **response time on server A is significantly higher (indicating lesser efficiency) compared to server B**."
   ]
  },
  {
   "cell_type": "markdown",
   "metadata": {},
   "source": [
    "## 2️⃣ Find a 99% confidence interval for the wait time difference between the two servers, assuming equal variances."
   ]
  },
  {
   "cell_type": "markdown",
   "metadata": {},
   "source": [
    "The confidence interval will be defined as follows:\n",
    "$$\n",
    "(\\bar{x_{A} }-\\bar{x_{B}})\\pm Z_{α/2} S_{\\bar{x_{A} }-\\bar{x_{B}}}\n",
    "$$"
   ]
  },
  {
   "cell_type": "markdown",
   "metadata": {},
   "source": [
    "The critical value z, for the given confidence interval is obtained using the Probability Density Function."
   ]
  },
  {
   "cell_type": "code",
   "execution_count": 8,
   "metadata": {},
   "outputs": [
    {
     "data": {
      "text/plain": [
       "-2.5758293035489004"
      ]
     },
     "execution_count": 8,
     "metadata": {},
     "output_type": "execute_result"
    }
   ],
   "source": [
    "# Compute the Z test statistic from the PDF of a normal distribution N(0,1)\n",
    "alpha = 0.99\n",
    "z = norm.ppf((1-alpha)/2)\n",
    "z"
   ]
  },
  {
   "cell_type": "markdown",
   "metadata": {},
   "source": [
    "Next, we can calculate the margin of the confidence interval."
   ]
  },
  {
   "cell_type": "code",
   "execution_count": 9,
   "metadata": {},
   "outputs": [
    {
     "data": {
      "text/plain": [
       "-0.7159921549281528"
      ]
     },
     "execution_count": 9,
     "metadata": {},
     "output_type": "execute_result"
    }
   ],
   "source": [
    "# Compute the margin\n",
    "m = z * sqrt((variance_ta/len(data.TA))+(variance_tb/len(data.TB)))\n",
    "m"
   ]
  },
  {
   "cell_type": "markdown",
   "metadata": {},
   "source": [
    "Once we get the margin, we can define the top and bottom values of the confidence interval."
   ]
  },
  {
   "cell_type": "code",
   "execution_count": 10,
   "metadata": {},
   "outputs": [
    {
     "data": {
      "text/plain": [
       "0.3162078450718485"
      ]
     },
     "execution_count": 10,
     "metadata": {},
     "output_type": "execute_result"
    }
   ],
   "source": [
    "# Bottom limit\n",
    "bottom = (mean_ta-mean_tb) + m\n",
    "bottom"
   ]
  },
  {
   "cell_type": "code",
   "execution_count": 11,
   "metadata": {},
   "outputs": [
    {
     "data": {
      "text/plain": [
       "1.7481921549281543"
      ]
     },
     "execution_count": 11,
     "metadata": {},
     "output_type": "execute_result"
    }
   ],
   "source": [
    "# Top limit\n",
    "top = (mean_ta-mean_tb) - m\n",
    "top"
   ]
  },
  {
   "cell_type": "markdown",
   "metadata": {},
   "source": [
    "Finally, we  plot the confidence interval and the statistical significance boundary."
   ]
  },
  {
   "cell_type": "code",
   "execution_count": 12,
   "metadata": {},
   "outputs": [
    {
     "data": {
      "image/png": "[encoded data removed]",
      "text/plain": [
       "<Figure size 800x200 with 1 Axes>"
      ]
     },
     "metadata": {},
     "output_type": "display_data"
    }
   ],
   "source": [
    "# Plot confidence interval\n",
    "def plot_confidence_interval(x, top, central, bottom, color='blue', horizontal_line_width=0.25):\n",
    "    left_w = x - horizontal_line_width / 4\n",
    "    right_w = x + horizontal_line_width / 4\n",
    "    plt.plot([top, bottom], [x, x], color=color)\n",
    "    plt.plot([top, top], [left_w, right_w], color=color, linestyle='dotted')\n",
    "    plt.plot([bottom, bottom], [left_w, right_w], color=color, linestyle='dotted')\n",
    "    plt.plot(central, x, 'o', color='#f44336')\n",
    "\n",
    "plt.figure(figsize=(8, 2))\n",
    "plt.title('Confidence Interval')\n",
    "plt.yticks([1], ['mean_ta - mean_tb'])\n",
    "plt.axvline(x=0, color='red', linestyle='dotted', lw=2)\n",
    "plt.annotate('Statistical\\nsignificance', xy=(0, 1), xytext=(5, 1), textcoords='offset points', color='red')\n",
    "plot_confidence_interval(1, top, (mean_ta - mean_tb), bottom)\n",
    "plt.show()"
   ]
  },
  {
   "cell_type": "markdown",
   "metadata": {},
   "source": [
    "The point estimate is represented as a ret dot within the confidence interval. We can observe that the value 0 does not fall within the interval. This indicates that, at the specified confidence level, there is **enough statistical evidence to assert a difference in response times between the two servers.**"
   ]
  },
  {
   "cell_type": "markdown",
   "metadata": {},
   "source": [
    "## 3️⃣ The company has considered that a wait time is tolerated if it remains under 9 milliseconds. Can we say that the proportion of requests with tolerated wait times is different for the two servers, using a confidence level at α = 0.05?"
   ]
  },
  {
   "cell_type": "markdown",
   "metadata": {},
   "source": [
    "Before conducting any statistical tests, we generate two new binary variables that define whether a given response time is tolerated (0) or not tolerable (1)."
   ]
  },
  {
   "cell_type": "code",
   "execution_count": 13,
   "metadata": {},
   "outputs": [
    {
     "data": {
      "text/html": [
       "<div>\n",
       "<style scoped>\n",
       "    .dataframe tbody tr th:only-of-type {\n",
       "        vertical-align: middle;\n",
       "    }\n",
       "\n",
       "    .dataframe tbody tr th {\n",
       "        vertical-align: top;\n",
       "    }\n",
       "\n",
       "    .dataframe thead th {\n",
       "        text-align: right;\n",
       "    }\n",
       "</style>\n",
       "<table border=\"1\" class=\"dataframe\">\n",
       "  <thead>\n",
       "    <tr style=\"text-align: right;\">\n",
       "      <th></th>\n",
       "      <th>TA</th>\n",
       "      <th>TB</th>\n",
       "      <th>TA_tolerated</th>\n",
       "      <th>TB_tolerated</th>\n",
       "    </tr>\n",
       "  </thead>\n",
       "  <tbody>\n",
       "    <tr>\n",
       "      <th>0</th>\n",
       "      <td>9.67</td>\n",
       "      <td>6.45</td>\n",
       "      <td>0</td>\n",
       "      <td>1</td>\n",
       "    </tr>\n",
       "    <tr>\n",
       "      <th>1</th>\n",
       "      <td>9.62</td>\n",
       "      <td>9.64</td>\n",
       "      <td>0</td>\n",
       "      <td>0</td>\n",
       "    </tr>\n",
       "    <tr>\n",
       "      <th>2</th>\n",
       "      <td>9.50</td>\n",
       "      <td>8.53</td>\n",
       "      <td>0</td>\n",
       "      <td>1</td>\n",
       "    </tr>\n",
       "    <tr>\n",
       "      <th>3</th>\n",
       "      <td>10.88</td>\n",
       "      <td>9.20</td>\n",
       "      <td>0</td>\n",
       "      <td>0</td>\n",
       "    </tr>\n",
       "    <tr>\n",
       "      <th>4</th>\n",
       "      <td>8.94</td>\n",
       "      <td>4.55</td>\n",
       "      <td>1</td>\n",
       "      <td>1</td>\n",
       "    </tr>\n",
       "  </tbody>\n",
       "</table>\n",
       "</div>"
      ],
      "text/plain": [
       "      TA    TB  TA_tolerated  TB_tolerated\n",
       "0   9.67  6.45             0             1\n",
       "1   9.62  9.64             0             0\n",
       "2   9.50  8.53             0             1\n",
       "3  10.88  9.20             0             0\n",
       "4   8.94  4.55             1             1"
      ]
     },
     "execution_count": 13,
     "metadata": {},
     "output_type": "execute_result"
    }
   ],
   "source": [
    "# Create binary variables\n",
    "tolerated_time = lambda x: 1 if x < 9 else 0\n",
    "data['TA_tolerated'] = data['TA'].apply(tolerated_time)\n",
    "data['TB_tolerated'] = data['TB'].apply(tolerated_time)\n",
    "\n",
    "data.head(5)"
   ]
  },
  {
   "cell_type": "markdown",
   "metadata": {},
   "source": [
    "### 3.1 Hypothesis statement"
   ]
  },
  {
   "cell_type": "markdown",
   "metadata": {},
   "source": [
    "In this scenario, we need to perform a two-tailed test on the proportion of non-tolerated request times."
   ]
  },
  {
   "cell_type": "markdown",
   "metadata": {},
   "source": [
    "$$\n",
    "H_{0}: p_{A} - p_{B}= 0\n",
    "$$\n",
    "\n",
    "$$\n",
    "H_{a}: p_{A} - p_{B}\\neq  0\n",
    "$$"
   ]
  },
  {
   "cell_type": "markdown",
   "metadata": {},
   "source": [
    "Both samples originate from populations that follow a Binomial distribution. Because our sample sizes are big enough, our test statistic can be approximated as follows:"
   ]
  },
  {
   "cell_type": "markdown",
   "metadata": {},
   "source": [
    "$$\n",
    "\\hat{p_{pool}} = \\frac{n_{A}\\hat{p_{A}} + n_{B}\\hat{p_{B}}}{n_{A}+n_{B}} \n",
    "$$"
   ]
  },
  {
   "cell_type": "code",
   "execution_count": 22,
   "metadata": {},
   "outputs": [
    {
     "name": "stdout",
     "output_type": "stream",
     "text": [
      "Proportion for server A: 0.12\n",
      "Proportion for server B: 0.62\n"
     ]
    }
   ],
   "source": [
    "pa = len(data[data['TA_tolerated'] == 1]) / len(data.TA_tolerated)\n",
    "pb = len(data[data['TB_tolerated'] == 1]) / len(data.TB_tolerated)\n",
    "\n",
    "print(f'Proportion for server A: {pa}')\n",
    "print(f'Proportion for server B: {pb}')"
   ]
  },
  {
   "cell_type": "code",
   "execution_count": 23,
   "metadata": {},
   "outputs": [
    {
     "name": "stdout",
     "output_type": "stream",
     "text": [
      "Pooled proportion: 0.37\n"
     ]
    }
   ],
   "source": [
    "p_pool = (len(data.TA_tolerated) * pa + len(data.TB_tolerated) * pb) / (len(data.TA_tolerated) + len(data.TB_tolerated))\n",
    "\n",
    "print(f'Pooled proportion: {p_pool}')"
   ]
  },
  {
   "cell_type": "markdown",
   "metadata": {},
   "source": [
    "$$\n",
    "z = \\frac{\\hat{p_{A}} - \\hat{p_{B}}}{\\sqrt{\\hat{p_{pool}}(1-\\hat{p_{pool}}) (\\frac{1}{n_{A} } + \\frac{1}{n_{B} } )  }}\n",
    "$$\n"
   ]
  },
  {
   "cell_type": "code",
   "execution_count": 16,
   "metadata": {},
   "outputs": [
    {
     "data": {
      "text/plain": [
       "-5.178081383343334"
      ]
     },
     "execution_count": 16,
     "metadata": {},
     "output_type": "execute_result"
    }
   ],
   "source": [
    "z = (pa - pb) / (sqrt(p_pool * (1-p_pool) * (1/len(data.TA_tolerated) + 1/len(data.TB_tolerated))))\n",
    "z"
   ]
  },
  {
   "cell_type": "markdown",
   "metadata": {},
   "source": [
    "### 3.2 P-value:"
   ]
  },
  {
   "cell_type": "markdown",
   "metadata": {},
   "source": [
    "With the test statistic computed, we proceed to obtain the p-value by evaluating the Cumulative Distribution Function of a standard normal distribution, denoted as N(0,1). Since we are conducting a two-sided test, and the cumulative distribution function yields the area to the left of the test statistic on the distribution curve, we will be multiplying by 2 the computed value."
   ]
  },
  {
   "cell_type": "code",
   "execution_count": 24,
   "metadata": {},
   "outputs": [
    {
     "data": {
      "text/plain": [
       "2.2417943998316116e-07"
      ]
     },
     "execution_count": 24,
     "metadata": {},
     "output_type": "execute_result"
    }
   ],
   "source": [
    "2*norm.cdf(z)"
   ]
  },
  {
   "cell_type": "markdown",
   "metadata": {},
   "source": [
    "We observe a p-value close to 0, indicating that there is a very low frequency with which the chance model produces a result more extreme than the observed result. Since this value is smaller than our chosen significance level (representing our tolerance for committing a Type I error), we reject the Null Hypothesis that states that **there is not statistically difference between the proportion of non-tolerated time requests between servers A and B**."
   ]
  },
  {
   "cell_type": "markdown",
   "metadata": {},
   "source": [
    "### 3.3 🎟️ BONUS: A/B Testing using a Resampling Procedure"
   ]
  },
  {
   "cell_type": "markdown",
   "metadata": {},
   "source": [
    "We can also test whether the difference in non-tolerated time requests between servers A and B **falls within the range of chance variation** using a **resampling procedure**. The resampling procedure will be executed as follows:\n",
    "\n",
    "1. Combine the binary variables 'TA_tolerated' and 'TB_tolerated' into a single list.\n",
    "2. Shuffle and draw a resample of size 50 (equivalent to the total observations for server A), recording the count of '1's.\n",
    "3. Record the count of '1's in the remaining observations that were not selected.\n",
    "4. Calculate the difference in proportions of '1's.\n",
    "5. Repeat steps 2-4 for a set number of times (1,000).\n",
    "6. Check how frequently the difference in proportions exceeded the observed difference."
   ]
  },
  {
   "cell_type": "code",
   "execution_count": 18,
   "metadata": {},
   "outputs": [],
   "source": [
    "# Permutation\n",
    "def perm_fun(x: pd.DataFrame, nA: int, nB: int) -> pd.DataFrame:\n",
    "    'Returns the result of combining and shuffling 2 binary variables from a dataframe'\n",
    "    n = nA + nB\n",
    "    idx_B = list(random.sample(range(n), nB))\n",
    "    idx_A = list(set(range(n)) - set(idx_B))\n",
    "    return x.loc[idx_B].mean() - x.loc[idx_A].mean()"
   ]
  },
  {
   "cell_type": "code",
   "execution_count": 36,
   "metadata": {},
   "outputs": [
    {
     "name": "stdout",
     "output_type": "stream",
     "text": [
      "Observed difference: -50.0%\n"
     ]
    },
    {
     "data": {
      "image/png": "[encoded data removed]",
      "text/plain": [
       "<Figure size 500x500 with 1 Axes>"
      ]
     },
     "metadata": {},
     "output_type": "display_data"
    }
   ],
   "source": [
    "# Resampling procedure\n",
    "obs_pct_diff = (pa - pb) * 100\n",
    "print(f'Observed difference: {obs_pct_diff}%')\n",
    "\n",
    "tolerated = [0] * (len(data[data['TA_tolerated'] == 0]) + len(data[data['TB_tolerated'] == 0]))\n",
    "tolerated.extend([1] * (len(data[data['TA_tolerated'] == 1]) + len(data[data['TB_tolerated'] == 1])))\n",
    "tolerated = pd.Series(tolerated)\n",
    "\n",
    "perm_diffs = [100 * perm_fun(tolerated, int(len(data.TA_tolerated)), int(len(data.TB_tolerated)))\n",
    "              for _ in range(1000)]\n",
    "\n",
    "fig, ax = plt.subplots(figsize=(5, 5))\n",
    "ax.hist(perm_diffs, bins=11, rwidth=0.9)\n",
    "ax.axvline(x=obs_pct_diff, color='black', lw=2)\n",
    "ax.text(obs_pct_diff, 200, 'Observed\\ndifference', bbox={'facecolor':'white'})\n",
    "ax.set_xlabel('Proportion of time-tolerated requests')\n",
    "ax.set_ylabel('Frequency')\n",
    "plt.show()"
   ]
  },
  {
   "cell_type": "markdown",
   "metadata": {},
   "source": [
    "Examining the histogram, we can see that the observed difference in proportions exceeds the range of observed differences. This suggests that this **difference is not withint the range of chance variation**."
   ]
  },
  {
   "cell_type": "markdown",
   "metadata": {},
   "source": [
    "In order to get a more precise estimate of statistical significance, we can estimate a p-value for our permutation test. The p-value will measure the proportion of times that the test has produced a difference equal to or greater than the observed difference."
   ]
  },
  {
   "cell_type": "code",
   "execution_count": 40,
   "metadata": {},
   "outputs": [
    {
     "data": {
      "text/plain": [
       "0.0"
      ]
     },
     "execution_count": 40,
     "metadata": {},
     "output_type": "execute_result"
    }
   ],
   "source": [
    "np.mean([diff <= obs_pct_diff for diff in perm_diffs])"
   ]
  },
  {
   "cell_type": "markdown",
   "metadata": {},
   "source": [
    "The p-value is 0.0, which means that **we would not expect to achieve a result as extreme as this, or a more extreme result, by random chance at all**."
   ]
  }
 ],
 "metadata": {
  "kernelspec": {
   "display_name": "lewagon",
   "language": "python",
   "name": "python3"
  },
  "language_info": {
   "codemirror_mode": {
    "name": "ipython",
    "version": 3
   },
   "file_extension": ".py",
   "mimetype": "text/x-python",
   "name": "python",
   "nbconvert_exporter": "python",
   "pygments_lexer": "ipython3",
   "version": "3.10.6"
  }
 },
 "nbformat": 4,
 "nbformat_minor": 2
}
